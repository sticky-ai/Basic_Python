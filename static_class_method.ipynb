{
 "cells": [
  {
   "cell_type": "markdown",
   "metadata": {},
   "source": [
    "## \\# 1. 정적메소드"
   ]
  },
  {
   "cell_type": "code",
   "execution_count": 1,
   "metadata": {},
   "outputs": [],
   "source": [
    "class TestClass:\n",
    "    # Instance Method\n",
    "    def add(self, x, y):\n",
    "        return x + y\n",
    "    \n",
    "    @staticmethod\n",
    "    def add_static(x, y):\n",
    "        return x + y\n",
    "    \n",
    "    @classmethod\n",
    "    def add_class(cls, x, y):\n",
    "        return x + y"
   ]
  },
  {
   "cell_type": "code",
   "execution_count": 2,
   "metadata": {},
   "outputs": [],
   "source": [
    "test = TestClass()"
   ]
  },
  {
   "cell_type": "markdown",
   "metadata": {},
   "source": [
    "### \\# 1.1 Instance Method"
   ]
  },
  {
   "cell_type": "code",
   "execution_count": 3,
   "metadata": {},
   "outputs": [
    {
     "ename": "TypeError",
     "evalue": "add() missing 1 required positional argument: 'y'",
     "output_type": "error",
     "traceback": [
      "\u001b[0;31m---------------------------------------------------------------------------\u001b[0m",
      "\u001b[0;31mTypeError\u001b[0m                                 Traceback (most recent call last)",
      "\u001b[0;32m<ipython-input-3-f658cbb93e8c>\u001b[0m in \u001b[0;36m<module>\u001b[0;34m\u001b[0m\n\u001b[1;32m      1\u001b[0m \u001b[0;31m# 클래스 직접 호출\u001b[0m\u001b[0;34m\u001b[0m\u001b[0;34m\u001b[0m\u001b[0m\n\u001b[0;32m----> 2\u001b[0;31m \u001b[0mprint\u001b[0m\u001b[0;34m(\u001b[0m\u001b[0mTestClass\u001b[0m\u001b[0;34m.\u001b[0m\u001b[0madd\u001b[0m\u001b[0;34m(\u001b[0m\u001b[0;36m1\u001b[0m\u001b[0;34m,\u001b[0m \u001b[0;36m2\u001b[0m\u001b[0;34m)\u001b[0m\u001b[0;34m)\u001b[0m\u001b[0;34m\u001b[0m\u001b[0m\n\u001b[0m",
      "\u001b[0;31mTypeError\u001b[0m: add() missing 1 required positional argument: 'y'"
     ]
    }
   ],
   "source": [
    "# 클래스 직접 호출\n",
    "print(TestClass.add(1, 2))"
   ]
  },
  {
   "cell_type": "code",
   "execution_count": 4,
   "metadata": {},
   "outputs": [
    {
     "name": "stdout",
     "output_type": "stream",
     "text": [
      "3\n"
     ]
    }
   ],
   "source": [
    "# 객체 생성 후 호출(Instance Method) - 1\n",
    "print(test.add(1, 2))"
   ]
  },
  {
   "cell_type": "code",
   "execution_count": 5,
   "metadata": {},
   "outputs": [
    {
     "name": "stdout",
     "output_type": "stream",
     "text": [
      "3\n"
     ]
    }
   ],
   "source": [
    "# 객체 생성 후 호출(Instance Method) - 2\n",
    "print(TestClass.add(None, 1, 2))"
   ]
  },
  {
   "cell_type": "markdown",
   "metadata": {},
   "source": [
    "### \\# 1.2 Static Method"
   ]
  },
  {
   "cell_type": "code",
   "execution_count": 6,
   "metadata": {},
   "outputs": [
    {
     "name": "stdout",
     "output_type": "stream",
     "text": [
      "3\n"
     ]
    }
   ],
   "source": [
    "# 클래스 직접 호출\n",
    "print(TestClass.add_static(1, 2))"
   ]
  },
  {
   "cell_type": "code",
   "execution_count": 7,
   "metadata": {},
   "outputs": [
    {
     "name": "stdout",
     "output_type": "stream",
     "text": [
      "3\n"
     ]
    }
   ],
   "source": [
    "# 객체 생성 후 호출(Static Method) - 1\n",
    "print(test.add_static(1, 2))"
   ]
  },
  {
   "cell_type": "markdown",
   "metadata": {},
   "source": [
    "### \\# 1.3 Class Method"
   ]
  },
  {
   "cell_type": "code",
   "execution_count": 8,
   "metadata": {},
   "outputs": [
    {
     "name": "stdout",
     "output_type": "stream",
     "text": [
      "3\n"
     ]
    }
   ],
   "source": [
    "# 클래스 직접 호출\n",
    "print(TestClass.add_class(1, 2))"
   ]
  },
  {
   "cell_type": "code",
   "execution_count": 9,
   "metadata": {},
   "outputs": [
    {
     "name": "stdout",
     "output_type": "stream",
     "text": [
      "3\n"
     ]
    }
   ],
   "source": [
    "# 객체 생성 후 호출(Class Method) - 1\n",
    "test = TestClass()\n",
    "print(test.add_class(1, 2))"
   ]
  },
  {
   "cell_type": "markdown",
   "metadata": {},
   "source": [
    "## \\# 2. @staticmethod vs @classmethod"
   ]
  },
  {
   "cell_type": "code",
   "execution_count": 17,
   "metadata": {},
   "outputs": [],
   "source": [
    "class KoreanAge:\n",
    "    age = 10\n",
    "    \n",
    "    def __init__(self):\n",
    "        print('Age : ', self.age)\n",
    "        \n",
    "    @staticmethod\n",
    "    def age_static():\n",
    "        return KoreanAge()\n",
    "    \n",
    "    @classmethod\n",
    "    def age_class(cls):\n",
    "        return cls()\n",
    "\n",
    "class AmericanAge(KoreanAge):\n",
    "    age = 9"
   ]
  },
  {
   "cell_type": "code",
   "execution_count": 18,
   "metadata": {},
   "outputs": [
    {
     "name": "stdout",
     "output_type": "stream",
     "text": [
      "Age :  10\n"
     ]
    }
   ],
   "source": [
    "age = Age()"
   ]
  },
  {
   "cell_type": "code",
   "execution_count": 20,
   "metadata": {},
   "outputs": [
    {
     "name": "stdout",
     "output_type": "stream",
     "text": [
      "Age :  10\n",
      "Age :  9\n"
     ]
    }
   ],
   "source": [
    "a = AmericanAge.age_static()\n",
    "b = AmericanAge.age_class()"
   ]
  },
  {
   "cell_type": "markdown",
   "metadata": {},
   "source": [
    "# 응용 예제"
   ]
  },
  {
   "cell_type": "markdown",
   "metadata": {},
   "source": [
    "### Instance Method"
   ]
  },
  {
   "cell_type": "code",
   "execution_count": 6,
   "metadata": {},
   "outputs": [
    {
     "name": "stdout",
     "output_type": "stream",
     "text": [
      "Kim의 급여는 10000원 입니다.\n",
      "Lee의 급여는 20000원 입니다.\n",
      "=================\n",
      "Kim의 급여는 12000원 입니다.\n",
      "Lee의 급여는 24000원 입니다.\n"
     ]
    }
   ],
   "source": [
    "class Employee(object):\n",
    "    inf_rate = 1.2\n",
    "    \n",
    "    def __init__(self, name, salary):\n",
    "        self.name = name\n",
    "        self.salary = salary\n",
    "        \n",
    "    def raise_salary(self):\n",
    "        self.salary = int(self.salary * self.inf_rate)\n",
    "    \n",
    "    def get_salary(self):\n",
    "        return '{}의 급여는 {}원 입니다.'.format(self.name, self.salary)\n",
    "    \n",
    "emp_1 = Employee('Kim', 10000)\n",
    "emp_2 = Employee('Lee', 20000)\n",
    "\n",
    "# 급여 인상 전\n",
    "print(emp_1.get_salary())\n",
    "print(emp_2.get_salary())\n",
    "print('=================')\n",
    "\n",
    "emp_1.raise_salary()\n",
    "emp_2.raise_salary()\n",
    "\n",
    "# 급여 인상 후 \n",
    "print(emp_1.get_salary())\n",
    "print(emp_2.get_salary())"
   ]
  },
  {
   "cell_type": "markdown",
   "metadata": {},
   "source": [
    "## @classmethod"
   ]
  },
  {
   "cell_type": "code",
   "execution_count": 14,
   "metadata": {},
   "outputs": [
    {
     "name": "stdout",
     "output_type": "stream",
     "text": [
      "Kim의 급여는 10000원 입니다.\n",
      "Lee의 급여는 20000원 입니다.\n",
      "급여를 삭감할 수 없습니다.\n",
      "자동적으로 1.0%가 반영되었습니다.\n",
      "Kim의 급여는 10000원 입니다.\n",
      "Lee의 급여는 20000원 입니다.\n"
     ]
    }
   ],
   "source": [
    "class Employee(object):\n",
    "    inf_rate = 1.2\n",
    "    \n",
    "    def __init__(self, name, salary):\n",
    "        self.name = name\n",
    "        self.salary = salary\n",
    "        \n",
    "    def raise_salary(self):\n",
    "        self.salary = int(self.salary * self.inf_rate)\n",
    "    \n",
    "    def get_salary(self):\n",
    "        return '{}의 급여는 {}원 입니다.'.format(self.name, self.salary)\n",
    "    \n",
    "    @classmethod\n",
    "    def change_inf_rate(cls, rate):\n",
    "        if rate < 1:\n",
    "            rate = 1.0\n",
    "            cls.inf_rate = 1.0\n",
    "            print('급여를 삭감할 수 없습니다.')\n",
    "            print('자동적으로 {}%가 반영되었습니다.'.format(rate))\n",
    "        else:\n",
    "            cls.inf_rate = rate\n",
    "            print('물가상승률 {}%가 반영되었습니다.'.format(rate))\n",
    "            \n",
    "emp_1 = Employee('Kim', 10000)\n",
    "emp_2 = Employee('Lee', 20000)\n",
    "\n",
    "# 급여 인상 전\n",
    "print(emp_1.get_salary()) # Kim의 급여는 10000원 입니다.\n",
    "print(emp_2.get_salary()) # Lee의 급여는 20000원 입니다.\n",
    "\n",
    "Employee.change_inf_rate(0.5)\n",
    "emp_1.raise_salary()\n",
    "emp_2.raise_salary()\n",
    "\n",
    "# 급여 인상 후 \n",
    "print(emp_1.get_salary()) # Kim의 급여는 12000원 입니다.\n",
    "print(emp_2.get_salary()) # Lee의 급여는 24000원 입니다."
   ]
  },
  {
   "cell_type": "markdown",
   "metadata": {},
   "source": [
    "## @staticmethod"
   ]
  },
  {
   "cell_type": "code",
   "execution_count": 18,
   "metadata": {},
   "outputs": [
    {
     "name": "stdout",
     "output_type": "stream",
     "text": [
      "Kim의 급여는 10000원 입니다.\n",
      "Lee의 급여는 20000원 입니다.\n",
      "물가상승률 3.0%가 반영되었습니다.\n",
      "Kim의 급여는 30000원 입니다.\n",
      "Lee의 급여는 60000원 입니다.\n",
      "False\n",
      "True\n"
     ]
    }
   ],
   "source": [
    "class Employee(object):\n",
    "    inf_rate = 1.2\n",
    "    \n",
    "    def __init__(self, name, salary):\n",
    "        self.name = name\n",
    "        self.salary = salary\n",
    "        \n",
    "    def raise_salary(self):\n",
    "        self.salary = int(self.salary * self.inf_rate)\n",
    "    \n",
    "    def get_salary(self):\n",
    "        return '{}의 급여는 {}원 입니다.'.format(self.name, self.salary)\n",
    "    \n",
    "    @classmethod\n",
    "    def change_inf_rate(cls, rate):\n",
    "        if rate < 1:\n",
    "            rate = 1.0\n",
    "            cls.inf_rate = 1.0\n",
    "            print('급여를 삭감할 수 없습니다.')\n",
    "            print('자동적으로 {}%가 반영되었습니다.'.format(rate))\n",
    "        else:\n",
    "            cls.inf_rate = rate\n",
    "            print('물가상승률 {}%가 반영되었습니다.'.format(rate))\n",
    "            \n",
    "    @staticmethod\n",
    "    def is_gt_50000(salary):\n",
    "        return salary > 50000\n",
    "        \n",
    "        \n",
    "emp_1 = Employee('Kim', 10000)\n",
    "emp_2 = Employee('Lee', 20000)\n",
    "\n",
    "# 급여 인상 전\n",
    "print(emp_1.get_salary()) # Kim의 급여는 10000원 입니다.\n",
    "print(emp_2.get_salary()) # Lee의 급여는 20000원 입니다.\n",
    "\n",
    "Employee.change_inf_rate(3.0)\n",
    "emp_1.raise_salary()\n",
    "emp_2.raise_salary()\n",
    "\n",
    "# 급여 인상 후 \n",
    "print(emp_1.get_salary()) # Kim의 급여는 12000원 입니다.\n",
    "print(emp_2.get_salary()) # Lee의 급여는 24000원 입니다.\n",
    "\n",
    "# 급여가 50000을 넘는지 확인 \n",
    "print(emp_1.is_gt_50000(emp_1.salary))\n",
    "print(emp_2.is_gt_50000(emp_2.salary))"
   ]
  },
  {
   "cell_type": "code",
   "execution_count": null,
   "metadata": {},
   "outputs": [],
   "source": []
  }
 ],
 "metadata": {
  "kernelspec": {
   "display_name": "Python 3",
   "language": "python",
   "name": "python3"
  },
  "language_info": {
   "codemirror_mode": {
    "name": "ipython",
    "version": 3
   },
   "file_extension": ".py",
   "mimetype": "text/x-python",
   "name": "python",
   "nbconvert_exporter": "python",
   "pygments_lexer": "ipython3",
   "version": "3.6.4"
  }
 },
 "nbformat": 4,
 "nbformat_minor": 2
}
