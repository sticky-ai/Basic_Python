{
 "cells": [
  {
   "cell_type": "markdown",
   "metadata": {},
   "source": [
    "# 정규표현식"
   ]
  },
  {
   "cell_type": "markdown",
   "metadata": {},
   "source": [
    "### 정규표현식을 사용하지 않은 경우"
   ]
  },
  {
   "cell_type": "code",
   "execution_count": 1,
   "metadata": {},
   "outputs": [
    {
     "name": "stdout",
     "output_type": "stream",
     "text": [
      "['*****@naver.com', '*****@gmail.com', '*****@hanmail.com', 'abcde', 'asd@']\n"
     ]
    }
   ],
   "source": [
    "def check_mail_pattern(mail):\n",
    "    if '@' not in mail:\n",
    "        raise ValueError\n",
    "    \n",
    "    else:\n",
    "        split = mail.split('@')\n",
    "        if len(split[0]) == 0 or len(split[1]) == 0:\n",
    "            raise ValueError\n",
    "\n",
    "\n",
    "mail = ['Kim@naver.com', 'Lee@gmail.com', 'Park@hanmail.com', 'abcde', 'asd@']\n",
    "\n",
    "result = []\n",
    "for i in mail:\n",
    "    try:\n",
    "        check_mail_pattern(i)\n",
    "        split = i.split('@')\n",
    "        result.append('*****' + '@' + split[1])\n",
    "    except:\n",
    "        result.append(i)\n",
    "            \n",
    "print(result)"
   ]
  },
  {
   "cell_type": "markdown",
   "metadata": {},
   "source": [
    "### 정규 표현식을 사용한 경우"
   ]
  },
  {
   "cell_type": "code",
   "execution_count": 2,
   "metadata": {},
   "outputs": [
    {
     "name": "stdout",
     "output_type": "stream",
     "text": [
      "['*****@naver.com', '*****@gmail.com', '*****@hanmail.com', 'abcde', 'asd@']\n"
     ]
    }
   ],
   "source": [
    "import re\n",
    "\n",
    "mail = ['Kim@naver.com', 'Lee@gmail.com', 'Park@hanmail.com', 'abcde', 'asd@']\n",
    "\n",
    "p = re.compile('(\\w+)[@](\\w+[.]\\w+)')\n",
    "result = [p.sub('*****@\\g<2>', i) for i in mail]\n",
    "\n",
    "print(result)"
   ]
  },
  {
   "cell_type": "code",
   "execution_count": null,
   "metadata": {},
   "outputs": [],
   "source": []
  },
  {
   "cell_type": "code",
   "execution_count": null,
   "metadata": {},
   "outputs": [],
   "source": []
  }
 ],
 "metadata": {
  "kernelspec": {
   "display_name": "Python 3",
   "language": "python",
   "name": "python3"
  },
  "language_info": {
   "codemirror_mode": {
    "name": "ipython",
    "version": 3
   },
   "file_extension": ".py",
   "mimetype": "text/x-python",
   "name": "python",
   "nbconvert_exporter": "python",
   "pygments_lexer": "ipython3",
   "version": "3.6.4"
  }
 },
 "nbformat": 4,
 "nbformat_minor": 2
}
