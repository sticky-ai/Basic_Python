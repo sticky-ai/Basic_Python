{
 "cells": [
  {
   "cell_type": "markdown",
   "id": "resistant-dragon",
   "metadata": {},
   "source": [
    "파이썬의 모든 클래스 정의는 `object`라는 최상위 클래스를 내포하고 있다. `object`는 기능이 없는 매우 간단한 클래스 정의다. 사용자가 정의하는 모든 클래스의 최상위 클래스는 `object`다."
   ]
  },
  {
   "cell_type": "code",
   "execution_count": 8,
   "id": "fuzzy-conservative",
   "metadata": {},
   "outputs": [
    {
     "name": "stdout",
     "output_type": "stream",
     "text": [
      "<class 'type'>\n",
      "<class 'object'>\n"
     ]
    }
   ],
   "source": [
    "class Test:\n",
    "    pass\n",
    "\n",
    "print(Test.__class__)\n",
    "print(Test.__class__.__base__)"
   ]
  },
  {
   "cell_type": "markdown",
   "id": "legitimate-firmware",
   "metadata": {},
   "source": [
    "> __init__()\n",
    "\n",
    "`__init__()` 메소드는 객체 초기화에 사용되며, 매개변수 값을 여러 형태로 받을 수 있다.\n",
    "객체는 생명주기를 가지는데, 객체 생명주기의 핵심은 객체의 생성과 초기화, 소멸로 구분할 수 있다.\n",
    "`__init__()` 메소드는 반드시 구현할 필요는 없지만, 구현하지 않으면 객체 생성 시 인스턴스 변수를 생성하지 않는다."
   ]
  },
  {
   "cell_type": "code",
   "execution_count": 10,
   "id": "controlled-pacific",
   "metadata": {},
   "outputs": [
    {
     "data": {
      "text/plain": [
       "200"
      ]
     },
     "execution_count": 10,
     "metadata": {},
     "output_type": "execute_result"
    }
   ],
   "source": [
    "\"\"\" Bad Case \n",
    "* 명확한 속성값이 정의되어 있지 않기 때문에 일반적으로 이렇게 정의하지 않음\n",
    "* 단, 모든 속성을 정의할 필요 없는 경우에 효과적\n",
    "\"\"\"\n",
    "class Car:\n",
    "    def size(self):\n",
    "        return self.length * self.width\n",
    "\n",
    "car = Car()\n",
    "car.length, car.width = 10, 20\n",
    "car.size()"
   ]
  },
  {
   "cell_type": "code",
   "execution_count": 11,
   "id": "rational-static",
   "metadata": {},
   "outputs": [
    {
     "data": {
      "text/plain": [
       "400"
      ]
     },
     "execution_count": 11,
     "metadata": {},
     "output_type": "execute_result"
    }
   ],
   "source": [
    "\"\"\" Good case \"\"\" \n",
    "class Car:\n",
    "    def __init__(self, length, width):\n",
    "        self.length = length\n",
    "        self.width = width\n",
    "    \n",
    "    def size(self):\n",
    "        return self.length * self.width\n",
    "\n",
    "car = Car(20, 20)\n",
    "car.size()"
   ]
  },
  {
   "cell_type": "code",
   "execution_count": null,
   "id": "expressed-mileage",
   "metadata": {},
   "outputs": [],
   "source": []
  }
 ],
 "metadata": {
  "kernelspec": {
   "display_name": "Python 3",
   "language": "python",
   "name": "python3"
  },
  "language_info": {
   "codemirror_mode": {
    "name": "ipython",
    "version": 3
   },
   "file_extension": ".py",
   "mimetype": "text/x-python",
   "name": "python",
   "nbconvert_exporter": "python",
   "pygments_lexer": "ipython3",
   "version": "3.9.2"
  }
 },
 "nbformat": 4,
 "nbformat_minor": 5
}
